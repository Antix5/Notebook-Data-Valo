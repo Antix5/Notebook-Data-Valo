{
 "cells": [
  {
   "attachments": {},
   "cell_type": "markdown",
   "metadata": {},
   "source": [
    "## This document regroup all the current R code\n",
    "Be cautious, this code is made for documentation purpose only, this code requires too much RAM to be excuted as such. "
   ]
  },
  {
   "cell_type": "code",
   "execution_count": null,
   "metadata": {},
   "outputs": [],
   "source": [
    "# This R environment comes with many helpful analytics packages installed\n",
    "# It is defined by the kaggle/rstats Docker image: https://github.com/kaggle/docker-rstats\n",
    "# For example, here's a helpful package to load\n",
    "\n",
    "library(tidyverse) # metapackage of all tidyverse packages\n",
    "\n",
    "# Input data files are available in the read-only \"../input/\" directory\n",
    "# For example, running this (by clicking run or pressing Shift+Enter) will list all files under the input directory\n",
    "\n",
    "list.files(path = \"../input\")\n",
    "\n",
    "# You can write up to 20GB to the current directory (/kaggle/working/) that gets preserved as output when you create a version using \"Save & Run All\" \n",
    "# You can also write temporary files to /kaggle/temp/, but they won't be saved outside of the current session"
   ]
  },
  {
   "cell_type": "code",
   "execution_count": null,
   "metadata": {},
   "outputs": [],
   "source": [
    "rawGeniusDataset <- read_csv(\"../input/genius-song-lyrics-with-language-information/song_lyrics.csv\")\n",
    "\n",
    "summary(rawGeniusDataset)"
   ]
  },
  {
   "attachments": {},
   "cell_type": "markdown",
   "metadata": {},
   "source": [
    "### Clean up (round 1)\n",
    "\n",
    "Le but de ce bloc est d'enlever du dataset les lignes où le language de la musique n'est pas clair (car mix de langues ou autres raisons)."
   ]
  },
  {
   "cell_type": "code",
   "execution_count": null,
   "metadata": {},
   "outputs": [],
   "source": [
    "rawGeniusDataset <- subset(rawGeniusDataset, (language!=NaN) & (year<=2023))\n",
    "summary(rawGeniusDataset)"
   ]
  },
  {
   "attachments": {},
   "cell_type": "markdown",
   "metadata": {},
   "source": [
    "### Identification of the different type of data"
   ]
  },
  {
   "cell_type": "code",
   "execution_count": null,
   "metadata": {},
   "outputs": [],
   "source": [
    "# We get the different genre\n",
    "\n",
    "genre <- unique(rawGeniusDataset[,\"tag\"])\n",
    "genre"
   ]
  },
  {
   "attachments": {},
   "cell_type": "markdown",
   "metadata": {},
   "source": [
    "We'll avoid misc and focus on :\n",
    "- Rap\n",
    "- Rb\n",
    "- Rock\n",
    "- Pop (Quite wide, include a lot of subgenre)\n",
    "- Country\n",
    "\n",
    "Misc also including text from book and proetry \n",
    "\n",
    "#### Identification of the languages\n",
    "\n"
   ]
  },
  {
   "cell_type": "code",
   "execution_count": null,
   "metadata": {},
   "outputs": [],
   "source": [
    "# I'll fillter out misc and after that we'll look at the different language\n",
    "rawGeniusDataset <- subset(rawGeniusDataset, tag!=\"misc\")\n",
    "lang <- unique(rawGeniusDataset[,\"language\"])\n",
    "lang"
   ]
  },
  {
   "attachments": {},
   "cell_type": "markdown",
   "metadata": {},
   "source": [
    "### Travail de Dylan\n",
    "\n",
    "On va traiter cette question:\n",
    "\n",
    "#### Quelle est la proportion de chansons qui contiennent des artistes featured ?"
   ]
  },
  {
   "cell_type": "code",
   "execution_count": null,
   "metadata": {},
   "outputs": [],
   "source": [
    "truc <- subset(rawGeniusDataset,\"features\" != '{}')$features\n",
    "head(truc)"
   ]
  },
  {
   "attachments": {},
   "cell_type": "markdown",
   "metadata": {},
   "source": [
    "On peut remarquer qu'il y a des éléments vides \"\" et \"{}\". Ils correspondent aux artistes qui n'ont pas fait de feature."
   ]
  },
  {
   "cell_type": "code",
   "execution_count": null,
   "metadata": {},
   "outputs": [],
   "source": [
    "# Filtrage de \"features\" pour enlever les artistes qui n'ont pas fait de feature\n",
    "df_features <- subset(rawGeniusDataset, features != \"\" & features != \"{}\")$features\n",
    "# head(df_features,n=100)\n",
    "nb_features <- length(df_features)\n",
    "nb_tot <- length(rawGeniusDataset$features)\n",
    "ratio <- nb_features / nb_tot\n",
    "cat(\"Il y a \", ratio*100, \"% features parmi les artistes du dataset.\")"
   ]
  },
  {
   "cell_type": "code",
   "execution_count": null,
   "metadata": {},
   "outputs": [],
   "source": [
    "# autre méthode pour le nettoyage:\n",
    "\n",
    "\n",
    "library(tidyverse)\n",
    "library(jsonlite)\n",
    "\n",
    "# \"Nettoyage\" de features pour enlever les \"\" et les \"{}\" ou autres éléments perturbateurs\n",
    "x <- vector()\n",
    "for (elt in truc$features) {\n",
    "  x <- c(truc, fromJSON(elt))\n",
    "}\n",
    "\n",
    "head(data.frame(x), n=100)"
   ]
  },
  {
   "cell_type": "code",
   "execution_count": null,
   "metadata": {},
   "outputs": [],
   "source": [
    "library(jsonlite)\n",
    "\n",
    "truc <- vector(\"list\", nrow(rawGeniusDataset)) # Initialise le vecteur RGD_non_vide\n",
    "\n",
    "for (i in 1:nrow(rawGeniusDataset)) {\n",
    "  if (rawGeniusDataset[i, \"features\"] != \"\" & rawGeniusDataset[i, \"features\"] != \"{}\") {\n",
    "    truc[[i]] <- fromJSON(rawGeniusDataset[i, \"features\"])\n",
    "  }\n",
    "}\n",
    "\n",
    "truc <- data.frame(features = unlist(truc)) # Convertit le vecteur en dataframe\n",
    "head(truc,n=100)"
   ]
  },
  {
   "attachments": {},
   "cell_type": "markdown",
   "metadata": {},
   "source": [
    "#### Ces collaborations ont-elles un impact sur le nombre de consultations sur la page ?"
   ]
  },
  {
   "cell_type": "code",
   "execution_count": null,
   "metadata": {},
   "outputs": [],
   "source": [
    "# dataframe des features\n",
    "\n",
    "# Je choisis les lignes où il y a un feature\n",
    "result1 <- subset(rawGeniusDataset, features != \"\" & features != \"{}\")\n",
    "# Je ne prends que les colonnes features et views\n",
    "df_avec_features <- result1[, c(\"features\", \"views\")]\n",
    "\n",
    "\n",
    "# dataframe sans features\n",
    "\n",
    "# Je prends les colonnes features et views\n",
    "result2 <- rawGeniusDataset[, c(\"features\", \"views\")]\n",
    "# Je fais \"rawGeniusDataset - df_avec_features\" de sorte à obtenir le reste, soit les artistes sans feature\n",
    "df_sans_features <- anti_join(result2, df_avec_features, by = c(\"features\", \"views\"))\n",
    "\n",
    "\n",
    "\n",
    "summary(df_avec_features)\n",
    "summary(df_sans_features)\n"
   ]
  },
  {
   "attachments": {},
   "cell_type": "markdown",
   "metadata": {},
   "source": [
    "### Travail Sara"
   ]
  },
  {
   "cell_type": "code",
   "execution_count": null,
   "metadata": {},
   "outputs": [],
   "source": [
    "artist_views <- rawGeniusDataset %>% #remove extremum dates\n",
    "  group_by(artist) %>% #Group by genre\n",
    "  summarize(total_views_artist = sum(views)) %>% subset(total_views_artist >= summarize$total_views_artist[6]) \n",
    "  head(10)\n",
    "\n",
    "barplot(artist_views$total_views_artist, legend=artist_views$artist, col=c(\"#F5E8C4\", \"#B7D2F3\", \"#E5A8D4\", \"#C7B3F2\", \"#A1F4E8\", \"#D9C7A5\"))                                          "
   ]
  },
  {
   "attachments": {},
   "cell_type": "markdown",
   "metadata": {},
   "source": [
    "#### Top #50 and Top #10 artists according to number of views"
   ]
  },
  {
   "cell_type": "code",
   "execution_count": null,
   "metadata": {},
   "outputs": [],
   "source": [
    "library(dplyr)\n",
    "\n",
    "# Cleaning the data\n",
    "cleanGeniusDataset  <- rawGeniusDataset[!grepl(\"Genius\", rawGeniusDataset$artist),]\n",
    "\n",
    "top_artists <- cleanGeniusDataset %>%\n",
    "  group_by(artist) %>%\n",
    "  summarise(total_views = sum(views)) %>%\n",
    "  arrange(desc(total_views))\n",
    "\n",
    "top_artists_50 <- top_artists %>% head(50)\n",
    "\n",
    "barplot(top_artists_50$total_views, legend=top_artists_50$artist, col=\"#B7D2F3\")\n",
    "\n",
    "library(ggplot2)\n",
    "library(ggpubr)\n",
    "\n",
    "top_artists_10 <- top_artists %>% head(10)\n",
    "\n",
    "# Sample data\n",
    "category <- as.vector(top_artists_10$artist)\n",
    "values <- as.vector(top_artists_10$total_views)\n",
    "total <- sum(values)\n",
    "values <- round(values/total*100)\n",
    "typeof(values)\n",
    "print(values)\n",
    "print(category)\n",
    "\n",
    "# Bar plot with custom color palette and labels\n",
    "ggplot(top_artists_10, aes(x=category, y=values, fill=category)) +\n",
    "  geom_bar(stat=\"identity\", color=\"black\") +\n",
    "  labs(title = \"Top #10 artistes les plus populaires\", x = \"Artiste\", y = \"Nombre de consultations des paroles (toutes chansons confondues)\") +\n",
    "  theme_minimal(base_size = 14) +\n",
    "  theme(plot.title = element_text(lineheight=3, face=\"bold\", color=\"black\",size=24)) +\n",
    "  theme(legend.text=element_text(size=14),\n",
    "        legend.title=element_text(size=14)) +\n",
    "  scale_fill_manual(name = \"Artistes\", \n",
    "                    label = category, \n",
    "                    values = c(\"#F5E8C4\", \"#B7D2F3\", \"#E5A8D4\", \"#C7B3F2\", \"#A1F4E8\", \"#FBB4AE\", \"#B3CDE3\", \"#CCEBC5\", \"#DECBE4\", \"#FED9A6\")) +\n",
    "  theme(legend.position = \"none\")\n"
   ]
  },
  {
   "attachments": {},
   "cell_type": "markdown",
   "metadata": {},
   "source": [
    "#### Most prevalent genre for each language"
   ]
  },
  {
   "cell_type": "code",
   "execution_count": null,
   "metadata": {},
   "outputs": [],
   "source": [
    "# Cleaning the data\n",
    "cleanGeniusDataset  <- rawGeniusDataset[!grepl(\"Genius\", rawGeniusDataset$artist),]\n",
    "\n",
    "# group the data by language and genre and count the frequency of each genre\n",
    "genre_freq <- cleanGeniusDataset %>%\n",
    "  group_by(language, tag) %>%\n",
    "  summarize(freq = n()) %>%\n",
    "  ungroup()\n",
    "\n",
    "# for each language, find the genre with the highest frequency\n",
    "top_genre <- genre_freq %>%\n",
    "  group_by(language) %>%\n",
    "  slice_max(freq) %>%\n",
    "  ungroup() %>%\n",
    "  select(language, tag)\n",
    "\n",
    "# Top #10 genres worldwide\n",
    "\n",
    "#print(top_genre)\n",
    "\n",
    "top_genre_world <- rawGeniusDataset %>%\n",
    "  group_by(tag) %>%\n",
    "  summarise(best_genre = n()) %>%\n",
    "  arrange(desc(best_genre)) %>%\n",
    "  head(5)\n",
    "\n",
    "library(ggplot2)\n",
    "library(ggpubr)\n",
    "\n",
    "# Sample data\n",
    "category <- as.vector(top_genre_world$tag)\n",
    "values <- as.vector(top_genre_world$best_genre)\n",
    "total <- sum(values)\n",
    "values <- round(values/total*100)\n",
    "typeof(values)\n",
    "print(values)\n",
    "print(category)\n",
    "\n",
    "# Bar plot with custom color palette and labels\n",
    "ggplot(top_genre_world, aes(x=category, y=values, fill=category)) +\n",
    "  geom_bar(stat=\"identity\", color=\"black\") +\n",
    "  scale_fill_manual(values=c(\"#F5E8C4\", \"#B7D2F3\", \"#E5A8D4\", \"#C7B3F2\", \"#A1F4E8\")) +\n",
    "  labs(title = \"Popularité des genres à l'international\", x = \"Genre\", y = \"Genre préféré (en % de nb de pays)\") +\n",
    "  theme_minimal(base_size = 14) +\n",
    "  theme(legend.position = \"none\")\n",
    "\n",
    "# Pie chart with custom color palette and labels\n",
    "ggplot(top_genre_world, aes(x=\"\", y=values, fill=category)) +\n",
    "  geom_bar(stat=\"identity\", color=\"white\", width=1) +\n",
    "  coord_polar(\"y\", start=0) +\n",
    "  scale_fill_manual(values=c(\"#F5E8C4\", \"#B7D2F3\", \"#E5A8D4\", \"#C7B3F2\", \"#A1F4E8\")) +\n",
    "  labs(title = \"Popularité des genres à l'international\") +\n",
    "  theme_void() +\n",
    "  theme(plot.title = element_text(hjust = 0.5))\n",
    "\n",
    "#print(top_genre_world)\n",
    "\n",
    "#barplot(top_genre_world$best_genre, legend=top_genre_world$tag, col=\"#B7D2F3\")\n",
    "\n",
    "#mycols <- c(\"#F5E8C4\", \"#B7D2F3\", \"#E5A8D4\", \"#C7B3F2\", \"#A1F4E8\")\n",
    "\n",
    "#pie(top_genre_world$best_genre)"
   ]
  },
  {
   "attachments": {},
   "cell_type": "markdown",
   "metadata": {},
   "source": [
    "#### Top #10 des artistes les plus prolifiques"
   ]
  },
  {
   "cell_type": "code",
   "execution_count": null,
   "metadata": {},
   "outputs": [],
   "source": [
    "# Load the dplyr package\n",
    "#library(dplyr)\n",
    "\n",
    "# Cleaning the data\n",
    "cleanGeniusDataset  <- rawGeniusDataset[!grepl(\"Genius\", rawGeniusDataset$artist),]\n",
    "\n",
    "# Group the data by artist and count the number of songs for each artist\n",
    "songs_by_artist <- cleanGeniusDataset %>%\n",
    "  group_by(artist) %>%\n",
    "  summarise(num_songs = n()) %>%\n",
    "  ungroup()\n",
    "\n",
    "# Sort the artists by the number of songs and select the top 10\n",
    "top_artists <- songs_by_artist %>%\n",
    "  arrange(desc(num_songs)) %>%\n",
    "  head(10)\n",
    "\n",
    "# Sample data\n",
    "category <- as.vector(top_artists$artist)\n",
    "values <- as.vector(top_artists$num_songs)\n",
    "total <- sum(values)\n",
    "values <- round(values/total*100)\n",
    "typeof(values)\n",
    "print(values)\n",
    "print(category)\n",
    "\n",
    "# Bar plot with custom color palette and labels\n",
    "ggplot(top_artists, aes(x=category, y=values, fill=category)) +\n",
    "  geom_bar(stat=\"identity\", color=\"black\") +\n",
    "  scale_fill_manual(values=c(\"#F5E8C4\", \"#B7D2F3\", \"#E5A8D4\", \"#C7B3F2\", \"#A1F4E8\", \"#FBB4AE\", \"#B3CDE3\", \"#CCEBC5\", \"#DECBE4\", \"#FED9A6\")) +\n",
    "  labs(title = \"Top #10 artistes les plus prolifiques\", x = \"Artiste\", y = \"Nombre d'oeuvres (en % de nb d'oeuvres total)\") +\n",
    "  theme_minimal(base_size = 14) +\n",
    "  theme(legend.position = \"none\")\n",
    "\n",
    "# Pie chart with custom color palette and labels\n",
    "ggplot(top_artists, aes(x=\"\", y=values, fill=category)) +\n",
    "  geom_bar(stat=\"identity\", color=\"white\", width=1) +\n",
    "  coord_polar(\"y\", start=0) +\n",
    "  scale_fill_manual(values=c(\"#F5E8C4\", \"#B7D2F3\", \"#E5A8D4\", \"#C7B3F2\", \"#A1F4E8\", \"#FBB4AE\", \"#B3CDE3\", \"#CCEBC5\", \"#DECBE4\", \"#FED9A6\")) +\n",
    "  labs(title = \"Top #10 artistes les plus prolifiques\") +\n",
    "  theme_void() +\n",
    "  theme(plot.title = element_text(hjust = 0.5))"
   ]
  },
  {
   "attachments": {},
   "cell_type": "markdown",
   "metadata": {},
   "source": [
    "### Travail Antoine"
   ]
  },
  {
   "cell_type": "code",
   "execution_count": null,
   "metadata": {},
   "outputs": [],
   "source": [
    "library(tidyverse)\n",
    "#library(plyr)\n",
    "\n",
    "# We count which languages are the most popular\n",
    "\n",
    "lang_freq <- count(rawGeniusDataset, language) \n",
    "head(lang_freq)\n",
    "lang_freq[order(-lang_freq$n), ]"
   ]
  },
  {
   "attachments": {},
   "cell_type": "markdown",
   "metadata": {},
   "source": [
    "We now do the same thing across time"
   ]
  },
  {
   "cell_type": "code",
   "execution_count": null,
   "metadata": {},
   "outputs": [],
   "source": [
    "library(tidyverse)"
   ]
  },
  {
   "cell_type": "code",
   "execution_count": null,
   "metadata": {},
   "outputs": [],
   "source": [
    "\n",
    "\n",
    "# Language in respect to time (from 1800 to 2023)\n",
    "\n",
    "langAllowed = c(\"en\", \"es\", \"fr\", \"pt\", \"ru\", \"de\", \"it\")\n",
    "\n",
    "langFreqTime <- rawGeniusDataset %>%\n",
    "  filter((year >= 1800) & (year <= 2022)) %>% #remove extremum dates\n",
    "  filter(language %in% langAllowed) %>%\n",
    "  group_by(year, language) %>% #Group by year and language\n",
    "  count() #Count the number of song by group\n",
    "\n",
    "\n",
    "head(langFreqTime)"
   ]
  },
  {
   "cell_type": "code",
   "execution_count": null,
   "metadata": {},
   "outputs": [],
   "source": [
    "library(ggplot2)"
   ]
  },
  {
   "cell_type": "code",
   "execution_count": null,
   "metadata": {},
   "outputs": [],
   "source": [
    "options(repr.plot.width = 15, repr.plot.height = 10)\n",
    "\n",
    "ggplot(langFreqTime %>% filter(year >= 1900), aes(x = year, y = log10(n), color = language)) +\n",
    "  geom_line(linewidth = 1) +\n",
    "  labs(x = \"Year of release\", y = \"Nb of song released (log10)\")+\n",
    "  theme(aspect.ratio = 0.5, text = element_text(size = 24, , color = \"black\", face = \"bold\"), panel.background = element_blank())\n",
    "ggsave(\"langNumATime.png\")"
   ]
  },
  {
   "attachments": {},
   "cell_type": "markdown",
   "metadata": {},
   "source": [
    "We can notice that between 2000 and 2025, there is a big spike"
   ]
  },
  {
   "cell_type": "code",
   "execution_count": null,
   "metadata": {},
   "outputs": [],
   "source": [
    "#We zoom on this pike\n",
    "\n",
    "ggplot(langFreqTime %>% filter(year >= 2005), aes(x = year, y = log(n), color = language)) +\n",
    "  geom_line(linewidth = 1) +\n",
    "  labs(x = \"Year\", y = \"N\")+\n",
    "  theme(aspect.ratio = 0.5)\n"
   ]
  },
  {
   "attachments": {},
   "cell_type": "markdown",
   "metadata": {},
   "source": [
    "We immediatly notice that 2015 has been a good year on Genius for song lyrics (this still need explainations), it's hard to explain we have this spike\n",
    "\n",
    "We can therefore conclude that english songs tend to be more popular (english has a noticably faster growth since the 1920's)"
   ]
  },
  {
   "attachments": {},
   "cell_type": "markdown",
   "metadata": {},
   "source": [
    "#### What are the most popular genres in regard of the number of views on the page ?\n"
   ]
  },
  {
   "cell_type": "code",
   "execution_count": null,
   "metadata": {},
   "outputs": [],
   "source": [
    "tag_views <- rawGeniusDataset %>% #remove extremum dates\n",
    "  group_by(tag) %>% #Group by genre\n",
    "  summarize(total_views_genre = sum(views)) \n",
    "  \n",
    "head(tag_views)\n",
    "\n",
    "ggplot(tag_views, aes(x = tag, y = total_views_genre)) + geom_bar(stat = \"identity\", fill = c(\"#FFFF64\", \"#FFFF64\", \"#FFFF64\", \"#FFFF64\", \"#FFFF64\"), color = \"black\", linewidth=2) + theme(text = element_text(size = 30, , color = \"black\", face = \"bold\"), panel.background = element_blank())\n",
    "ggsave(\"bar_chart.png\")"
   ]
  },
  {
   "attachments": {},
   "cell_type": "markdown",
   "metadata": {},
   "source": [
    "#### Is there any trends regarding the popularity of some genres in function of their release date ?"
   ]
  },
  {
   "cell_type": "code",
   "execution_count": null,
   "metadata": {},
   "outputs": [],
   "source": [
    "# genres in respect to time (from 1970 to 2023)\n",
    "library(ggplot2)\n",
    "library(tidyverse)\n",
    "\n",
    "genreFreqTime <- rawGeniusDataset %>%\n",
    "  filter((year >= 1950) & (year <= 2022)) %>% #remove extremum dates\n",
    "  group_by(year, tag) %>% #Group by year and genre\n",
    "  summarize(total_views_genre = sum(views)) \n",
    "\n",
    "\n",
    "head(genreFreqTime)"
   ]
  },
  {
   "attachments": {},
   "cell_type": "markdown",
   "metadata": {},
   "source": [
    "We put that into a graph"
   ]
  },
  {
   "cell_type": "code",
   "execution_count": null,
   "metadata": {},
   "outputs": [],
   "source": [
    "options(repr.plot.width = 15, repr.plot.height = 10)\n",
    "\n",
    "ggplot(genreFreqTime %>% filter((year >= 1950) & (year <= 2022)), aes(x = year, y = log10(total_views_genre), color = tag)) +\n",
    "  geom_line(linewidth = 1) +\n",
    "  labs(x = \"year of release\", y = \"total views by genre (log10)\")+\n",
    "  theme(aspect.ratio = 0.5) + theme(text = element_text(size = 25, , color = \"black\", face = \"bold\"), panel.background = element_blank())\n",
    "ggsave(\"genrepoptime.png\")"
   ]
  },
  {
   "attachments": {},
   "cell_type": "markdown",
   "metadata": {},
   "source": [
    "We can see something very intersting there, in recent years, Rap has overpassed pop as the most popular genre (it's although very important to be cautious, due to the nature of RAP which is very lyrics oriented, there is maybe a bias here toward RAP). There is also quite a lot of noise going back before 1960 so those data are quite unreliable"
   ]
  },
  {
   "attachments": {},
   "cell_type": "markdown",
   "metadata": {},
   "source": [
    "#### NLP, preprocessing of the text for further analysis (next step)"
   ]
  },
  {
   "cell_type": "code",
   "execution_count": null,
   "metadata": {},
   "outputs": [],
   "source": [
    "# install wordpiece\n",
    "install.packages(\"tokenizers\")"
   ]
  }
 ],
 "metadata": {
  "language_info": {
   "name": "python"
  },
  "orig_nbformat": 4
 },
 "nbformat": 4,
 "nbformat_minor": 2
}
